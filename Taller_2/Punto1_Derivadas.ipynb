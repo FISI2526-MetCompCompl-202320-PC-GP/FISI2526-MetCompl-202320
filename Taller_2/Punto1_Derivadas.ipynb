{
 "cells": [
  {
   "cell_type": "code",
   "execution_count": null,
   "metadata": {},
   "outputs": [],
   "source": [
    "import numpy as np\n",
    "import matplotlib.pyplot as plt"
   ]
  },
  {
   "cell_type": "markdown",
   "metadata": {},
   "source": [
    "1.1"
   ]
  },
  {
   "cell_type": "code",
   "execution_count": null,
   "metadata": {},
   "outputs": [],
   "source": [
    "r = 0.25\n",
    "R = 1750\n",
    "Bo = 0.05\n",
    "f = 7\n",
    "w = 3.5\n",
    "T = (2*np.pi)/w\n",
    "t = np.linspace(0,2*T,1000)"
   ]
  },
  {
   "cell_type": "code",
   "execution_count": null,
   "metadata": {},
   "outputs": [],
   "source": [
    "def Derivada(f,x,h=1e-8):\n",
    "    b = f(x+h)\n",
    "    j = f(x-h)\n",
    "    k = 2*h\n",
    "    res = (b-j)/k\n",
    "    return res"
   ]
  },
  {
   "cell_type": "code",
   "execution_count": null,
   "metadata": {},
   "outputs": [],
   "source": [
    "def Flujo(t):\n",
    "    flu = np.pi*(r**2)*Bo*np.cos(w*t)*np.cos(2*np.pi*f*t)\n",
    "    return flu"
   ]
  },
  {
   "cell_type": "code",
   "execution_count": null,
   "metadata": {},
   "outputs": [],
   "source": [
    "def Corriente_Inducida(t):\n",
    "    g = (-1)*(1/R)\n",
    "    res = g*Derivada(Flujo,t)\n",
    "    return res"
   ]
  },
  {
   "cell_type": "code",
   "execution_count": null,
   "metadata": {},
   "outputs": [],
   "source": [
    "I = Corriente_Inducida(t)\n",
    "De_I = Derivada(Corriente_Inducida,t)"
   ]
  },
  {
   "cell_type": "markdown",
   "metadata": {},
   "source": [
    "1.2"
   ]
  },
  {
   "cell_type": "code",
   "execution_count": null,
   "metadata": {},
   "outputs": [],
   "source": []
  }
 ],
 "metadata": {
  "language_info": {
   "name": "python"
  },
  "orig_nbformat": 4
 },
 "nbformat": 4,
 "nbformat_minor": 2
}
