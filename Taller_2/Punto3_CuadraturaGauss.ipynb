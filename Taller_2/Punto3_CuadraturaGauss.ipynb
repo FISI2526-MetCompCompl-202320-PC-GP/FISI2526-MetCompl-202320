{
  "nbformat": 4,
  "nbformat_minor": 0,
  "metadata": {
    "colab": {
      "provenance": []
    },
    "kernelspec": {
      "name": "python3",
      "display_name": "Python 3"
    },
    "language_info": {
      "name": "python"
    }
  },
  "cells": [
    {
      "cell_type": "code",
      "source": [
        "import numpy as np\n",
        "import matplotlib.pyplot as plt\n",
        "import math"
      ],
      "metadata": {
        "id": "aVPWcAywzkGC"
      },
      "execution_count": 2,
      "outputs": []
    },
    {
      "cell_type": "markdown",
      "source": [
        "3.1 Cuadratura Gauss-Laguerre"
      ],
      "metadata": {
        "id": "NYbCAVE9EpxM"
      }
    },
    {
      "cell_type": "code",
      "execution_count": 1,
      "metadata": {
        "id": "B-iCpDWovC9o"
      },
      "outputs": [],
      "source": [
        "def GetLaguerre(n,x):\n",
        "    if n == 0:\n",
        "        res = 1\n",
        "\n",
        "    elif n == 1:\n",
        "        res = 1 - x\n",
        "\n",
        "    else:\n",
        "        res = ((2*n - 1 - x)*GetLaguerre(n-1,x) - (n-1)*GetLaguerre(n-2,x))/n\n",
        "\n",
        "    return res\n"
      ]
    },
    {
      "cell_type": "code",
      "source": [
        "def GetAllRootsLaguerre(n):\n",
        "  raiz_inf = 0\n",
        "  raiz_sup = n + (n - 1) * np.sqrt(n)\n",
        "\n",
        "  roots = []\n",
        "  while raiz_inf < raiz_sup:\n",
        "    punto_medio = (raiz_inf + raiz_sup) / 2\n",
        "    if GetLaguerre(n, punto_medio) == 0:\n",
        "      roots.append(punto_medio)\n",
        "      raiz_inf = punto_medio\n",
        "    else:\n",
        "      raiz_sup = punto_medio\n",
        "\n",
        "  return roots"
      ],
      "metadata": {
        "id": "wne7Czcz0Y3W"
      },
      "execution_count": 3,
      "outputs": []
    },
    {
      "cell_type": "code",
      "source": [
        "def GetWeightsLaguerre(n):\n",
        "  pesos = []\n",
        "  for k in range(n + 1):\n",
        "    pesos.append(k / ((n + 1)**2 * (GetLaguerre(n + 1, k))**2))\n",
        "\n",
        "  return pesos"
      ],
      "metadata": {
        "id": "ORJxEcO22K9b"
      },
      "execution_count": 4,
      "outputs": []
    },
    {
      "cell_type": "markdown",
      "source": [
        "3.2 Cuadratura Gauss-Hermite"
      ],
      "metadata": {
        "id": "9tBEO41nEgIJ"
      }
    },
    {
      "cell_type": "code",
      "source": [
        "def GetHermite(n,x):\n",
        "  if n == 0:\n",
        "    res = 1\n",
        "\n",
        "  else:\n",
        "    res = 2 * x * GetHermite(n - 1, x) - 2 * (n - 1) * GetHermite(n - 2, x)\n",
        "\n",
        "  return res"
      ],
      "metadata": {
        "id": "9xoDvunQEkb6"
      },
      "execution_count": null,
      "outputs": []
    },
    {
      "cell_type": "code",
      "source": [
        "def GetAllRootsGHer(n):\n",
        "  raiz_inf = -math.sqrt(4 * n + 1)\n",
        "  raiz_sup = math.sqrt(4 * n + 1)\n",
        "\n",
        "  raices = []\n",
        "\n",
        "  for x in np.linspace(raiz_inf, raiz_sup, 100):\n",
        "    if GetHermite(n, x) == 0:\n",
        "      raices.append(x)\n",
        "\n",
        "  return raices"
      ],
      "metadata": {
        "id": "HVTAUVljIcfq"
      },
      "execution_count": null,
      "outputs": []
    },
    {
      "cell_type": "code",
      "source": [
        "import math\n",
        "\n",
        "def GetWeightsGHer(n):\n",
        "  pesos = []\n",
        "\n",
        "  for k in range(n):\n",
        "    p = (2**(n-1)*math.factorial(n)*math.sqrt(math.pi))/(n**2*(GetHermite(n-1, k))**2)\n",
        "    pesos.append(p)\n",
        "\n",
        "  return pesos"
      ],
      "metadata": {
        "id": "SNX312OBKPpr"
      },
      "execution_count": null,
      "outputs": []
    },
    {
      "cell_type": "markdown",
      "source": [
        "3.3 Aplicación"
      ],
      "metadata": {
        "id": "VvzvHuRrLiA5"
      }
    },
    {
      "cell_type": "code",
      "source": [],
      "metadata": {
        "id": "lv6Maow63G5_"
      },
      "execution_count": null,
      "outputs": []
    }
  ]
}