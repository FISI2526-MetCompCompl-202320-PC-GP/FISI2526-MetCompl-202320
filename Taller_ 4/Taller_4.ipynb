{
  "nbformat": 4,
  "nbformat_minor": 0,
  "metadata": {
    "colab": {
      "provenance": []
    },
    "kernelspec": {
      "name": "python3",
      "display_name": "Python 3"
    },
    "language_info": {
      "name": "python"
    }
  },
  "cells": [
    {
      "cell_type": "code",
      "source": [
        "import math\n",
        "from scipy.stats import norm\n",
        "import numpy as np\n",
        "import matplotlib.pyplot as plt"
      ],
      "metadata": {
        "id": "lJ3s7Owsb8jz"
      },
      "execution_count": 47,
      "outputs": []
    },
    {
      "cell_type": "markdown",
      "source": [
        "# 1) Calculo de probabilidad"
      ],
      "metadata": {
        "id": "scNPHje5bw3Q"
      }
    },
    {
      "cell_type": "markdown",
      "source": [
        "1."
      ],
      "metadata": {
        "id": "Pno8ZhHEQUfe"
      }
    },
    {
      "cell_type": "markdown",
      "source": [
        "a)"
      ],
      "metadata": {
        "id": "S5E9enslQXlV"
      }
    },
    {
      "cell_type": "code",
      "source": [
        "def ejercicio_1_1_a(n):\n",
        "  intentos=0\n",
        "  conteo=0\n",
        "  while intentos<=n:\n",
        "    baraja=[]\n",
        "    carta_numero=0\n",
        "    while carta_numero<=5:\n",
        "      carta=np.random.randint(52)\n",
        "      if carta in baraja:\n",
        "        carta=np.random.randint(52)\n",
        "      baraja.append(carta)\n",
        "      carta_numero+=1\n",
        "    carta_baraja=2\n",
        "    pare=False\n",
        "    conteo_favorable=0\n",
        "    while carta_baraja<5 and pare==False:\n",
        "      if (39<=baraja[carta_baraja] and baraja[carta_baraja]<=51):\n",
        "        carta_baraja+=1\n",
        "      else:\n",
        "        pare=True\n",
        "    if carta_baraja==5:\n",
        "      conteo+=1\n",
        "    intentos+=1\n",
        "  proba=conteo/n\n",
        "  return proba\n",
        "\n",
        "print(ejercicio_1_1_a(70000))"
      ],
      "metadata": {
        "colab": {
          "base_uri": "https://localhost:8080/"
        },
        "id": "eTYY8_chQRmp",
        "outputId": "64a654ff-2fbc-41ee-fbae-08d895690964"
      },
      "execution_count": 48,
      "outputs": [
        {
          "output_type": "stream",
          "name": "stdout",
          "text": [
            "0.012142857142857143\n"
          ]
        }
      ]
    },
    {
      "cell_type": "markdown",
      "source": [
        "b)"
      ],
      "metadata": {
        "id": "Cnhw5lUfQahe"
      }
    },
    {
      "cell_type": "code",
      "source": [
        "def ejercicio_1_1_b(n):\n",
        "  intentos=0\n",
        "  conteo=0\n",
        "  while intentos<=n:\n",
        "    baraja=[]\n",
        "    carta_numero=0\n",
        "    while carta_numero<=4:\n",
        "      carta=np.random.randint(52)\n",
        "      if carta in baraja:\n",
        "        carta=np.random.randint(52)\n",
        "      baraja.append(carta)\n",
        "      carta_numero+=1\n",
        "    carta_baraja=3\n",
        "    pare=False\n",
        "    conteo_favorable=0\n",
        "    while carta_baraja<5 and pare==False:\n",
        "      if (39<=baraja[carta_baraja] and baraja[carta_baraja]<=51):\n",
        "        carta_baraja+=1\n",
        "      else:\n",
        "        pare=True\n",
        "    if carta_baraja==5:\n",
        "      conteo+=1\n",
        "    intentos+=1\n",
        "  proba=conteo/n\n",
        "  return proba\n",
        "\n",
        "print(ejercicio_1_1_b(50000))"
      ],
      "metadata": {
        "colab": {
          "base_uri": "https://localhost:8080/"
        },
        "id": "gh5IwkwYQRoT",
        "outputId": "cbd38894-4b97-47c9-d34b-388da352e717"
      },
      "execution_count": 49,
      "outputs": [
        {
          "output_type": "stream",
          "name": "stdout",
          "text": [
            "0.05952\n"
          ]
        }
      ]
    },
    {
      "cell_type": "markdown",
      "source": [
        "c)"
      ],
      "metadata": {
        "id": "AUaHDD8UQfwL"
      }
    },
    {
      "cell_type": "code",
      "source": [
        "def ejercicio_1_1_c(n):\n",
        "  intentos=0\n",
        "  conteo=0\n",
        "  while intentos<=n:\n",
        "    baraja=[]\n",
        "    carta_numero=0\n",
        "    while carta_numero<=1:\n",
        "      carta=np.random.randint(52)\n",
        "      if carta in baraja:\n",
        "        carta=np.random.randint(52)\n",
        "      baraja.append(carta)\n",
        "      carta_numero+=1\n",
        "    carta_baraja=0\n",
        "    pare=False\n",
        "    conteo_favorable=0\n",
        "    while carta_baraja<=1 and pare==False:\n",
        "      if (39<=baraja[carta_baraja] and baraja[carta_baraja]<=51):\n",
        "        carta_baraja+=1\n",
        "      else:\n",
        "        pare=True\n",
        "    if carta_baraja==1:\n",
        "      conteo+=1\n",
        "    intentos+=1\n",
        "  proba=conteo/n\n",
        "  return proba\n",
        "\n",
        "print(ejercicio_1_1_c(5000))"
      ],
      "metadata": {
        "colab": {
          "base_uri": "https://localhost:8080/"
        },
        "id": "FaRDRa56QiHm",
        "outputId": "699acefc-8799-4906-e4f2-725f4c2793ba"
      },
      "execution_count": 50,
      "outputs": [
        {
          "output_type": "stream",
          "name": "stdout",
          "text": [
            "0.1906\n"
          ]
        }
      ]
    },
    {
      "cell_type": "markdown",
      "source": [
        "# 2) Distribuciones de probabilidad discretas"
      ],
      "metadata": {
        "id": "I4wnF-rZbx4R"
      }
    },
    {
      "cell_type": "markdown",
      "source": [
        "1."
      ],
      "metadata": {
        "id": "IpQ2RLGrUs6d"
      }
    },
    {
      "cell_type": "code",
      "source": [
        "n1, a1 = 5, 1\n",
        "n2, a2 = 25, 5\n"
      ],
      "metadata": {
        "id": "L3rw1XNCXd8E"
      },
      "execution_count": 51,
      "outputs": []
    },
    {
      "cell_type": "code",
      "source": [
        "p = np.linspace(0, 1, 101)\n",
        "\n",
        "Pa1 = [np.sum(np.random.binomial(n1, pi, 10000) <= a1) / 10000 for pi in p]\n",
        "Pa2 = [np.sum(np.random.binomial(n2, pi, 10000) <= a2) / 10000 for pi in p]\n",
        "\n",
        "plt.plot(p, Pa1, label=f\"n={n1}, a={a1}\")\n",
        "plt.plot(p, Pa2, label=f\"n={n2}, a={a2}\")\n",
        "\n",
        "plt.xlabel(\"Proporción de piezas defectuosas (p)\")\n",
        "plt.ylabel(\"Probabilidad de aceptación (Pa)\")\n",
        "plt.title(\"Curvas características de operación\")\n",
        "plt.legend()\n",
        "\n",
        "plt.show()\n"
      ],
      "metadata": {
        "colab": {
          "base_uri": "https://localhost:8080/",
          "height": 473
        },
        "id": "LIJDVMh1X7Rl",
        "outputId": "1fb2f483-d912-41de-ff30-1e1f32ca0a94"
      },
      "execution_count": 52,
      "outputs": [
        {
          "output_type": "display_data",
          "data": {
            "text/plain": [
              "<Figure size 640x480 with 1 Axes>"
            ],
            "image/png": "[encoded data removed]"
          },
          "metadata": {}
        }
      ]
    },
    {
      "cell_type": "markdown",
      "source": [
        "a)"
      ],
      "metadata": {
        "id": "hccYsXdVYUF-"
      }
    },
    {
      "cell_type": "code",
      "source": [
        "p1 = 0.1\n",
        "Pa1 = np.sum(np.random.binomial(n1, p1, 10000) <= a1) / 10000\n",
        "Pa2 = np.sum(np.random.binomial(n2, p1, 10000) <= a2) / 10000\n",
        "if Pa1 > Pa2:\n",
        "    print(f\"Preferiría el plan de muestreo n={n1}, a={a1} para p={p1}.\")\n",
        "else:\n",
        "    print(f\"Preferiría el plan de muestreo n={n2}, a={a2} para p={p1}.\")"
      ],
      "metadata": {
        "colab": {
          "base_uri": "https://localhost:8080/"
        },
        "id": "eteborvpYU9x",
        "outputId": "8db649ff-9df6-4aa0-d421-23f033f4ee99"
      },
      "execution_count": 54,
      "outputs": [
        {
          "output_type": "stream",
          "name": "stdout",
          "text": [
            "Preferiría el plan de muestreo n=25, a=5 para p=0.1.\n"
          ]
        }
      ]
    },
    {
      "cell_type": "markdown",
      "source": [
        "b)"
      ],
      "metadata": {
        "id": "T2PYUjzZYYnV"
      }
    },
    {
      "cell_type": "code",
      "source": [
        "p2 = 0.3\n",
        "Pa1 = np.sum(np.random.binomial(n1, p2, 10000) <= a1) / 10000\n",
        "Pa2 = np.sum(np.random.binomial(n2, p2, 10000) <= a2) / 10000\n",
        "if Pa1 > Pa2:\n",
        "    print(f\"Preferiría el plan de muestreo n={n1}, a={a1} para p>{p2}.\")\n",
        "else:\n",
        "    print(f\"Preferiría el plan de muestreo n={n2}, a={a2} para p>{p2}.\")"
      ],
      "metadata": {
        "colab": {
          "base_uri": "https://localhost:8080/"
        },
        "id": "DDPJk0XVYZyr",
        "outputId": "8353702c-6ce0-4ca1-e410-1270b5d7d446"
      },
      "execution_count": 55,
      "outputs": [
        {
          "output_type": "stream",
          "name": "stdout",
          "text": [
            "Preferiría el plan de muestreo n=5, a=1 para p>0.3.\n"
          ]
        }
      ]
    },
    {
      "cell_type": "markdown",
      "source": [
        "2."
      ],
      "metadata": {
        "id": "CXKcDsHIUts6"
      }
    },
    {
      "cell_type": "code",
      "source": [
        "lam = 1  # tasa de desconexiones por hora\n",
        "t = 4  # período de tiempo en horas"
      ],
      "metadata": {
        "id": "u-uEifjvVNzT"
      },
      "execution_count": 34,
      "outputs": []
    },
    {
      "cell_type": "markdown",
      "source": [
        "a)"
      ],
      "metadata": {
        "id": "gfoo50vkWENA"
      }
    },
    {
      "cell_type": "code",
      "source": [
        "n = 0\n",
        "p = 1\n",
        "while p > 0.01:\n",
        "    n += 1\n",
        "    p = 1 - np.sum(np.exp(-lam * t) * ((lam * t) ** np.arange(n)) / np.arange(1, n + 1))\n",
        "print(f\"El valor más pequeño de n tal que la probabilidad de al menos {n} desconexiones en menos de 4 horas es menor que 0.01.\")"
      ],
      "metadata": {
        "colab": {
          "base_uri": "https://localhost:8080/"
        },
        "id": "FELe4WdGV4ns",
        "outputId": "8a95091a-66bf-4adf-fe96-f0674a9f2ea0"
      },
      "execution_count": 35,
      "outputs": [
        {
          "output_type": "stream",
          "name": "stdout",
          "text": [
            "El valor más pequeño de n tal que la probabilidad de al menos 5 desconexiones en menos de 4 horas es menor que 0.01.\n"
          ]
        }
      ]
    },
    {
      "cell_type": "markdown",
      "source": [
        "b)"
      ],
      "metadata": {
        "id": "6XEn4KLBWKfC"
      }
    },
    {
      "cell_type": "code",
      "source": [
        "h = 0\n",
        "p = 1\n",
        "while p > 0.02:\n",
        "    h += 1\n",
        "    p = np.exp(-lam * h)\n",
        "print(f\"El valor más pequeño del número de horas h tal que la probabilidad de no tener desconexiones en {h} horas es menor que 0.02.\")"
      ],
      "metadata": {
        "colab": {
          "base_uri": "https://localhost:8080/"
        },
        "id": "zkIxwPgKVQaN",
        "outputId": "03f58e83-5020-4d95-cc41-76ed32b08d2f"
      },
      "execution_count": 36,
      "outputs": [
        {
          "output_type": "stream",
          "name": "stdout",
          "text": [
            "El valor más pequeño del número de horas h tal que la probabilidad de no tener desconexiones en 4 horas es menor que 0.02.\n"
          ]
        }
      ]
    },
    {
      "cell_type": "markdown",
      "source": [
        "c)"
      ],
      "metadata": {
        "id": "0JexHaDKWQhr"
      }
    },
    {
      "cell_type": "code",
      "source": [
        "p = np.exp(-3 * lam * t) * (3 * lam * t) ** 1 / 1\n",
        "print(f\"La probabilidad de tener solo un período de 4 horas sin desconexiones en 3 períodos consecutivos de 4 horas es {p:.4f}.\")"
      ],
      "metadata": {
        "colab": {
          "base_uri": "https://localhost:8080/"
        },
        "id": "oQV1BGtJWRll",
        "outputId": "89c5d8c0-211e-4ea8-d6d6-54096b9f82d4"
      },
      "execution_count": 37,
      "outputs": [
        {
          "output_type": "stream",
          "name": "stdout",
          "text": [
            "La probabilidad de tener solo un período de 4 horas sin desconexiones en 3 períodos consecutivos de 4 horas es 0.0001.\n"
          ]
        }
      ]
    },
    {
      "cell_type": "markdown",
      "source": [
        "d)"
      ],
      "metadata": {
        "id": "5XsUX8eAWjni"
      }
    },
    {
      "cell_type": "code",
      "source": [
        "mu = lam * 3 * t\n",
        "p = np.exp(-mu) * mu ** 0 / np.math.factorial(0) + np.exp(-mu) * mu ** 1 / np.math.factorial(1) + np.exp(-mu) * mu ** 2 / np.math.factorial(2)\n",
        "print(f\"La probabilidad de tener el mismo número de desconexiones en 3 períodos consecutivos de 4 horas que el número esperado de desconexiones en 3 períodos consecutivos de 4 horas es {p:.4f}.\")\n"
      ],
      "metadata": {
        "colab": {
          "base_uri": "https://localhost:8080/"
        },
        "id": "t_DLu3-AWk6H",
        "outputId": "4a492c16-55fa-4172-cc05-e3162cd8efa5"
      },
      "execution_count": 38,
      "outputs": [
        {
          "output_type": "stream",
          "name": "stdout",
          "text": [
            "La probabilidad de tener el mismo número de desconexiones en 3 períodos consecutivos de 4 horas que el número esperado de desconexiones en 3 períodos consecutivos de 4 horas es 0.0005.\n"
          ]
        }
      ]
    },
    {
      "cell_type": "markdown",
      "source": [
        "# 3) Distribuciones de probabilidad continuas"
      ],
      "metadata": {
        "id": "Ae4pjB75bk8m"
      }
    },
    {
      "cell_type": "markdown",
      "source": [
        "2."
      ],
      "metadata": {
        "id": "soddrg7z4RFi"
      }
    },
    {
      "cell_type": "markdown",
      "source": [
        "a) Probabilidad de obtener una calificación mayor a 72"
      ],
      "metadata": {
        "id": "tLjPC8641gqz"
      }
    },
    {
      "cell_type": "code",
      "source": [
        "sigma = np.sqrt(36)\n",
        "x = 72\n",
        "z = (x - 78) / sigma\n",
        "p = 1 - norm.cdf(z)\n",
        "print(f\"La probabilidad de obtener una calificación mayor a 72 es {p:.4f}\")"
      ],
      "metadata": {
        "colab": {
          "base_uri": "https://localhost:8080/"
        },
        "id": "WXocE-YRcWO_",
        "outputId": "84623485-a615-4d6d-9245-9066ab895ec7"
      },
      "execution_count": 21,
      "outputs": [
        {
          "output_type": "stream",
          "name": "stdout",
          "text": [
            "La probabilidad de obtener una calificación mayor a 72 es 0.8413\n"
          ]
        }
      ]
    },
    {
      "cell_type": "markdown",
      "source": [
        "b) Calificación mínima para obtener una A"
      ],
      "metadata": {
        "id": "hBirnmwH1nkJ"
      }
    },
    {
      "cell_type": "code",
      "source": [
        "pct = 0.1\n",
        "z = norm.ppf(1 - pct)\n",
        "x = 78 + z * sigma\n",
        "print(f\"La calificación mínima para obtener una A es {x:.2f}\")"
      ],
      "metadata": {
        "colab": {
          "base_uri": "https://localhost:8080/"
        },
        "id": "DJoq5qhN1msr",
        "outputId": "61d2a827-a0b8-40d0-e8eb-c7f78bac4889"
      },
      "execution_count": 20,
      "outputs": [
        {
          "output_type": "stream",
          "name": "stdout",
          "text": [
            "La calificación mínima para obtener una A es 85.69\n"
          ]
        }
      ]
    },
    {
      "cell_type": "markdown",
      "source": [
        "c) Punto límite para pasar el examen"
      ],
      "metadata": {
        "id": "eFLeG_Xk1pYC"
      }
    },
    {
      "cell_type": "code",
      "source": [
        "pct = 0.281\n",
        "z = norm.ppf(pct)\n",
        "x = 78 + z * sigma\n",
        "print(f\"El punto límite para pasar el examen es {x:.2f}\")"
      ],
      "metadata": {
        "colab": {
          "base_uri": "https://localhost:8080/"
        },
        "id": "fG75DI2i1m4W",
        "outputId": "faa9826d-9bce-48e6-db77-c2be2f037ba8"
      },
      "execution_count": 19,
      "outputs": [
        {
          "output_type": "stream",
          "name": "stdout",
          "text": [
            "El punto límite para pasar el examen es 74.52\n"
          ]
        }
      ]
    },
    {
      "cell_type": "markdown",
      "source": [
        "d) Proporción de estudiantes con calificaciones 5 o más puntos arriba del 25% más bajo"
      ],
      "metadata": {
        "id": "SRxzMnP11oOE"
      }
    },
    {
      "cell_type": "code",
      "source": [
        "pct = 0.25\n",
        "z = norm.ppf(pct)\n",
        "x = 78 + z * sigma\n",
        "p = 1 - norm.cdf(x + 5)\n",
        "print(f\"La proporción de estudiantes con calificaciones 5 o más puntos arriba del 25% más bajo es {p:.1f}\")"
      ],
      "metadata": {
        "colab": {
          "base_uri": "https://localhost:8080/"
        },
        "id": "U7LtqkQG10eR",
        "outputId": "9d352a1a-1d73-4202-c2a8-2e62ab99bc8f"
      },
      "execution_count": 31,
      "outputs": [
        {
          "output_type": "stream",
          "name": "stdout",
          "text": [
            "La proporción de estudiantes con calificaciones 5 o más puntos arriba del 25% más bajo es 0.0\n"
          ]
        }
      ]
    },
    {
      "cell_type": "markdown",
      "source": [
        "e) Probabilidad de obtener una calificación mayor a 84, dado que la calificación es mayor a 72"
      ],
      "metadata": {
        "id": "dwLpCQEh10xn"
      }
    },
    {
      "cell_type": "code",
      "source": [
        "x1 = 72\n",
        "x2 = 84\n",
        "z1 = (x1 - 78) / sigma\n",
        "z2 = (x2 - 78) / sigma\n",
        "p = (1 - norm.cdf(z2)) / (1 - norm.cdf(z1))\n",
        "print(f\"La probabilidad de obtener una calificación mayor a 84, dado que la calificación es mayor a 72 es {p:.4f}\")"
      ],
      "metadata": {
        "colab": {
          "base_uri": "https://localhost:8080/"
        },
        "id": "m4oROXo_2Cv2",
        "outputId": "ebe3cc71-5366-4057-ad99-1274cdb909e7"
      },
      "execution_count": 27,
      "outputs": [
        {
          "output_type": "stream",
          "name": "stdout",
          "text": [
            "La probabilidad de obtener una calificación mayor a 84, dado que la calificación es mayor a 72 es 0.1886\n"
          ]
        }
      ]
    },
    {
      "cell_type": "markdown",
      "source": [
        "# 4) Cadenas de Markov"
      ],
      "metadata": {
        "id": "bZ6z0yVwQ1UF"
      }
    },
    {
      "cell_type": "markdown",
      "source": [],
      "metadata": {
        "id": "OCPbRBrbRMMu"
      }
    },
    {
      "cell_type": "markdown",
      "source": [
        "1."
      ],
      "metadata": {
        "id": "zg_igr5LRMO2"
      }
    },
    {
      "cell_type": "code",
      "source": [
        "T=np.array([[0.4,0.25,0.3,0.1],\n",
        "           [0.2,0.25,0.3,0.1],\n",
        "           [0.2,0.25,0.1,0.1],\n",
        "           [0.2,0.25,0.3,0.7]])\n",
        "#sea pi={A,C,G,T}\n",
        "\n",
        "pi=np.array([0.25,0,0.5,0.25])\n",
        "#Para la secuencia del inciso a, tenemos que multiplicar las componentes del vecto correspondiente a la letra con la probabilidad de llegar a la siguiente letra.\n",
        "probabilidad=pi[3]*T[3][2]*T[2][1]*T[1][3]*T[3][1]*T[0][0]*T[0][0]*T[0][0]\n",
        "print(probabilidad)"
      ],
      "metadata": {
        "colab": {
          "base_uri": "https://localhost:8080/"
        },
        "id": "UWULGj2KRJNF",
        "outputId": "13126b9a-a3bb-4a7e-b4b6-e11c4ce3cfcf"
      },
      "execution_count": 8,
      "outputs": [
        {
          "output_type": "stream",
          "name": "stdout",
          "text": [
            "3.0000000000000004e-05\n"
          ]
        }
      ]
    },
    {
      "cell_type": "markdown",
      "source": [
        "2."
      ],
      "metadata": {
        "id": "2KFL22pzRWsz"
      }
    },
    {
      "cell_type": "code",
      "source": [],
      "metadata": {
        "id": "aWvfx-JPRXqg"
      },
      "execution_count": null,
      "outputs": []
    }
  ]
}