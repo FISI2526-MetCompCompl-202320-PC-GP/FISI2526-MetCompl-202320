{
  "nbformat": 4,
  "nbformat_minor": 0,
  "metadata": {
    "colab": {
      "provenance": []
    },
    "kernelspec": {
      "name": "python3",
      "display_name": "Python 3"
    },
    "language_info": {
      "name": "python"
    }
  },
  "cells": [
    {
      "cell_type": "code",
      "execution_count": 1,
      "metadata": {
        "id": "rMEGQhKKdkjQ"
      },
      "outputs": [],
      "source": [
        "import numpy as np"
      ]
    },
    {
      "cell_type": "markdown",
      "source": [
        "1. Multiplicación de matrices"
      ],
      "metadata": {
        "id": "_4iDM6M55Y32"
      }
    },
    {
      "cell_type": "code",
      "source": [
        "def Mul_Matrices(a, b):\n",
        "    if a.shape[1] != b.shape[0]:\n",
        "        return \"Las matrices no pueden ser multiplicadas\"\n",
        "    else:\n",
        "        mult = np.zeros((a.shape[0], b.shape[1]))\n",
        "        for i in range(a.shape[0]):\n",
        "            for j in range(b.shape[1]):\n",
        "                for k in range(a.shape[1]):\n",
        "                    mult[i, j] += a[i, k] * b[k, j]\n",
        "\n",
        "        return mult"
      ],
      "metadata": {
        "id": "aCjV5Nht5W-A"
      },
      "execution_count": 7,
      "outputs": []
    },
    {
      "cell_type": "markdown",
      "source": [
        "a)  ![image.png](data:image/png;base64,iVBORw0KGgoAAAANSUhEUgAAAMoAAAByCAYAAAAS/E6wAAAAAXNSR0IArs4c6QAAAARnQU1BAACxjwv8YQUAAAAJcEhZcwAADsMAAA7DAcdvqGQAABYWSURBVHhe7Z0HlBRFE4D7zAlFRYwYMAAGjCcoBkRRz5xBkoIgoKgERUV5KGLAnDEhegQjDz0QUQkiKGBCRLInIIqnmFERFOefr/6Ze8u57s3uzs707dX3Xj92Z5fbCV3dVdVV1QX16td15s8rNYqiJKd+gz3Net5rRVFSoIKiKAFQQVGUAKigKEoAVFAUJQBZC8pff/1lfvvtN7Ny5cp12t9//+19Q7GFtWvXJn1Wq1ev9r6h/BdZC8pTTz1ltt9+e7P77ruv06ZOnep9Q7GFGTNmmMMPP3yd57Tlllua/v37e99Q/ousBcVxHFOzZk3zxBNPrNMaNGjgfUOxhb333tvcdddd6zynjTfe2PtUSUXWC46PPvqoefDBB838+fO9I5mD0H355ZemtLTUFBYWmk033dTMmzfP/Prrr6ZJkybet+zinXfeMf/8849p2rSpdyQ6Fi9ebCZPnixqbrNmzUzdunW9T4KzxRZbmKuuusrceuut3hGlIlYuOH7yySemefPmMkttvfXW5pRTThFBsZEVK1aYli1bms8++8w7Eg0IZklJienYsaPZYIMNzMyZM80BBxxgBg0aJHaIEj7WCcomm2xizj//fNOzZ09zyy23mNdff92cdNJJ3qf2gFH88MMPmx9++ME7Eh1fffWVeeaZZ0xxcbFp06aNzOht27Y1d9xxh/noo4+8bylhYqWgnHfeeaJLd+/e3ey///5mvfXsOk1G9IkTJ5q99tpLRvSoQeVC1X311Vfl/frrry+Dy08//SSqqhI+1gkKMFq/8cYbYmwuWrRIbBeb+Pbbb6WjnnDCCd6RaNl3333NxRdfbI477jjviBH1FKHFrlPCxzpBWbNmjXnuuedEpdl5551FBRs1apT3afwwm6AO1q9f3+ywww7e0WjZbrvtTO/evcs9i6tWrTJPP/202WeffcT9q4SPdYKy3377mfvvv1+M5JNPPtmceOKJZsCAAebPP//0vhEedHr0/Y8//jhlw1j2HQrvvvuueOZwOBQUFMixMGCGSvbbiW327Nn/ml3xeL344ovmiy++EM8VayNK+FjnHmZGQYVA7wZmk0svvdSMHz/eHHjggXIsLFiRHj58uPztVGAjXXnlleJ+5d+HHnrIbLvttvLZ5ptvbgYOHGi6desm7zPl6quvNsuXL/feJQe1Cs/WRhttJO+5XwguRnzfvn3FpZ6uPafu4crBPWwQlGx45JFHnHr16nnvsmPlypVO7dq1nREjRnhHHMcVFKdWrVrO9OnTvSPxMXr0aKdRo0ZOs2bNpDVt2tRxZxXHVXmcjh07Oq5t5X0zGtzZ0GnVqpUzZcoUx50dHXfWk2Pp4Aq606dPH++dkgxkxCrVi9Fw1113NXvu6UqwC6pRWVmZqVGjhmnYsKEcixPWdBjB33zzTWkvv/yyzHyXX365eeyxx8xmm23mfTP3LFy40PTo0cOcdtpp4n3jPjEzTps2zfuGEiZWCQqqRevWrc2SJUsk2HLOnDlm5MiR5oorrrDCm4MgIxj8+/XXX5vXXntNhBn7gYVSXkfBsmXLRFV76623jDuji2uYdu+995qddtrJ+5YSJtYZ8+3atROj9eCDD5aRulOnTlnr/2HjzsZiPCMs6PZ4wBYsWBDZqjh23DHHHCMDCKEruIn599xzzxXPlxI+VhnzSvSoMV85WlxCUQKigqIoAVBBUZQAqKAoGYGHjwXbxIaTISrPXypwtuA1rXh+HMsUFRQlI4ieJv0hseF1+/zzz71vxAchRpdddtm/zo8IhkxRQVEygghqEtYI0CTFmMbCJ2kScbPhhhvKwrV/XjTSD7LyzNoUwuJO2xKGsWzZMsedKp21a9c633//vbN8+XLvG/HDOS5YsEDCVXj9+++/O+4I5qxatcr7Ru7gfsycOdNxVRzvSPZkGsIybNgwp7Cw0HFnEO9IdqxYseJfz33p0qXep9nTuHFjCffJBOtCWIAMPRYdL7nkEtOlSxeZQj/88EPv0/hBByebsH379qZz585ynlSiIdQ916DuELZCvk6+MW7cOHnupDcTBEu+zXvvved9Gj/WCYo7QkuIBjFLrHyT7Xj88cd7n8aPO8DIqvzcuXMlgoC0ACIHttpqK+8buYH8fBYGiTDOx7x48o+4xvfff1+ukQHyzDPP9D6NH+sEhZXi22+/XYxCYqmIYYoy2DAI5MignyPMN954o+jp6Ya3pwMem6FDh5rDDjvMO5Kf+BEeY8eONUVFRVZla1ppzONmJDr2gw8+MK6uKqO4TaB+ffPNN3J+5K/n8vz42ySOMVhQPyCfIQmN5476TQVLm7BOUMhkROcnjP3TTz81vXr1sq5gAh2XCiyoYETxUhElV+oQQkn9AIIebfAo5RJmFNKsp0+fLukDUZeBSoV1goIagy7etWtXMe7ITbn22mtzspDFaM0o5i9IpWr+76NinXHGGeaGG24wLVq0EN88GY7o1mHPLPw9VC5cnfkeFbzbbruJY4RnT9Q40ePUS6CyjA1kLSh0oDALcpPue/rpp0veB/7wevXqyQiDYR82nDfJTnT0VO3OO+8sX0ij82JD+XYT+R+kLqOGhS3M5LmQKNaqVSvvSPhwPTY4B0499VRz1llnee+MvMZeIc/HBrIWlDALLDBy43Klc/hg0PEbeMLChtmBGYtyqJU1qlYSAoEqePfdd3t/4f/XT948HpswBQUhJhHrjz/+kNkLFY/6AfxOv379rHKdZgsqFi7hxOJ9tWrVkmv/5ZdfvCPxEoqghFUEDkGhM2DA+3Cz6KC5KPrNrMWqLUlQqdrRRx8tKiGdl4oniSu8jMhUaKG0kl8QIwz4W6QXk+9D4QjaoYceKkUtENawPGA8vzDPOxOw9bBJf/75Z++IMd999514QLfZZhvvSLxYZaOwBQF6KgXeGJ3xrbN9BGWLGNHjhtmNeKaLLrqo3HaZMGGCVISn44bpIqYDUyuA9RlmLISUNSbUJBYcw1bz4oS6ydh72GFcH8+dajPUKLPF02eVoADrJozaqDf33HOPzFY333yz92n8oPZQwR61CNuFYn3sLxJ2KaVEmLHwfOERPOigg8yYMWNyYrPFBbXIKNzx5JNPynPHQcIAwXO3ZUYxNsV6gTtyOmVlZc7ChQud0tJSx52OJabKJly9WWKcFi1aJOfqjoLeJ7nBVT0dd5R1XHWkvLlC432aHbbEenEPienjubuqmMT8hUnexXqhL7ODF7YDBecYWVBDbAIVEScA0bKcay5X5YFZlZEVO8lv+bYBEPdwxx13lOe+xx57iNppE9YJiqLYiAqKogRABUVRApC1oOCmzCYXWYkX11YNNbIiX8laUDDCwlpwVKInzAXjfCYU1cs2r5SihI1VNgpqAHkILK6x0SlJUexTGEe8D/kmt912m5kyZYpkM77yyitSvZ7VeNsg9OOcc86ROLB8A9Weou2kXtAfWOQlhChqddE6Y56Vbm4E0aSELxCpy8p31Pz444/yUM4++2yJZGXDIfz8RDTbBElu7HVJNmgudiWLGwIm2YGNe0+fYIc0cnMYTKPEKkFh9EBQmjRpYg455BDJlye2iv0JcxE9nAp2taLQAR3wpZdeku0VjjjiiJwvLqYDMzDJbaQh8Drf4JoIkmVxFSHh/hPWwnFmmCiLbFglKMQ0EWKPukNwHEYmSUtAimiUIBC77LKLBDsSpEnYt222GLMJcWcMKv52dfkE6hX1w+67777yPTQJjiVHiejixGjjXGOVoNSsWVMC/phJCGVBWKjIQadlD5IoYXbDNmE2GTJkiKT7ci42jdykzZJARvRtPoKayx4wFJsgbAiYRRg02ZGZ/hIVVgkKIzYVTurUqSPvyUvhJrVp0ybynaQQVGY0YroI82e/e6JayY+xAeoIICgXXnihVepg2JCH5O/nzyD1wgsvSHpwhw4dJP0gKqy+w+QkMJKQMx+12kMONyHfqF4ILg8LDxyzSi5gmznSC1K1kpIS6SwY7exMfNNNN+W8nljYvP3220mvLbHhYWRGrwj2GEU9nn32WRm8ouwTWQsKF4SuHCZ0hMGDB0seOjkpRMuihkUF10R1ShKIeBg0su2YZXJVEYbiFKT3pmrYb0RBjB49WjIqOT+8QhSl5pzZHo88lXTuFYKXSWQF9gP/N1mHTgXPNNm1VWwVzwlvF9mebF9OzhK/m44anOl1lmNbPsrq1aud4cOHO927d3fchy7H3FHIWbx4sbyOAuoKuzOZ4wqpd8Rx3E7quMa94xrP3pF4IG9j4sSJcm7urCKtXbt2jqvPO/3793cmTJiQVm1iW/JRUkEuTq9evZzi4mKp8UzOkjsDp5Wzklf5KO45ydQ8adIkqcSCjUIlElyBUVaLpH4W+emcA3BeS5cuFeORfIk4YXaj2IU7kEjZURolZ7GnKO/Exqe2rfVkA8Y7swi1ArBXMORxh+P0iTLX3ypBodA1HWDEiBHSSfGbU9hh8uTJpnbt2t63cg8PgMonqH+sCqOG4aKkqANqYJz4qiAGPAKMexiHB8KBaoJqE6Wamku4DmwS1rIGDBhgjj32WOkT7HWCuh/l4FnAtGLLrsBcPA+9ItgHvucjKjgXZjaKWyA4jNQshNoUQEhHQoiZeREeBIfsQFzpQT1hme4KTKTCAw88IAvEeAZzAXbIrFmzZDavCDM7BdKDgoCRMct5pwu7AltnoyjRUhVslDDIu5x5RbERFRRFCYAKiqIEIGtBweAKe8FRiQ5XBddU7gBkLSh4V/LJb18d0edXOaGoXrgmlaqJPrtgVBkbBRUhMf3Tf59urFEm8FtkPMa1XRq/z2JsviwkZgLPmRjAuO5BlREUKrlTzJmsQ9KD2VynU6dOEhiYaxBI8iKi3sYbASF3n/wcMvwo4UrIio37WuYKrpNF6COPPFJW5FlkZDuMKAbIRKrUjEJj/0SiZ6nF26dPn5yHlDCCkbNN1mXUMIISEcA20uwxj6DSaVhFz8f8+GQQScxzfv755yWUiWtn6zoS6aKkyggKujRFHshXoBoK4RNRBCjSQaluEkdyFElizKTsPAwEBjKr8D7KfPE4QeXlWsvKyuQ9214wYJKbEiVVSlCocE5ckb9vYq7h4VDt4/rrr4/F6CU/fMaMGaZHjx7yHjc8MXXcAz81Nt9p3ry5zObUBQDygXgWbIYaJVVK9UL1IICPXbnatm0ryU65Mu5YW0DNYYObKFNOE2EWo0wPEF7OPo4ICRHW+bbtw39BygP3gPRfIqMJwMU2JT08SqqMoDCDHHXUUTK6k5+CYcdrMt9yAR2Twnv+SBYnXCNpyGQyYsziAWPgqE6wOzA5KID6GbXqWZBtmD31rjB2Kb4QFErPULSNESIVqBck7VBlhI6BAcs+ikDaK5v2kyrMvu9hwiyFutOlSxdJFmJ2oUQO9cUwruMALw/ertatW8vmRWyNF0aODrMlszRVMdMh0zD73r17Jw2bT4TSSwyGibMmzx/vI84cEteuueYaqRwZdLE02zD7rAUlk3wUOiIF7Spz7XITGD2YfvF2kHWIKgTsJIs3iG2Xcd2GCYljjOAU3wMeEJ0J1yzJQ1QqjAIGFIzWwsLC8k6DgFBuFtuJzUCzJep8lNLS0krrcSEo/ianFPNg/YqByrcT+Yw+wW8HdehkKyixqF4kQrEmQsdP1Ro2bChZbKgaPMjEfcgZ5fEK8XfCho1LKaXKKE5DBfNfR+n9oiMyg5Ee7cPIGodjISwQqmTPOrGhQXCNqFfMHKQ6c++B6/fvQZT3oUrYKKhbpAYnjqB4QiiClk6WW1D4my1btixv1BpjRGfPeab9qGDkZEb1R1c6C/ux05mowpLvMGtQNopn4A9Q2I5oE1HfgyohKNwkVmOxEfr27St2C3YRxbtzMaP4MGuh1iEozCpdu3aNdCtvbDA8PJ07dxaV64ILLpByRJyD7w3LZ3DgoBZSVrV9+/ZyDyj4h+pLTTMEKTKqUiowW2mPHz/emTRpkmxhXR1wZxHHteecsWPHOlOnTpVSSmFSVVKBXVvNGTNmjDNr1izvSHpUq1RgqiKir6L+VJcFN/RwioUXFRVJcYu41nTiBruFeDfs1jioUoKiKHGhgqJkDM4FYtFw39LwUsUVBp8I55B4XrRsz0sFRckY1z4Rx0qLFi2k4XiobDExCohkoLC7f140vGXZoIKiZASuehY+WZTFfqLhjWIBM24IniXcyT8vGudKydlMKYhjZV6xh0xX5h1v4a8iUS8EJsM/r4rnl+m5xbYyHwR0Shv03cpgrSWuJCo6AnYC9ylZp80ldDjWtyq2uIUEfIEI89ysExQW9kjOYqYi4LG4uDjSvfrShfOjRnHUEL5DrBOzObsXsxhr832q6lglKIyKbD1GRiEhK+i87K6EwNgIkaxEwxLoFyXcJ+oGkKNBTBq7T7E7GHkqNu6Dnw9YN6OMHDnSzJ49W3LhibligYloXttg9CZVII49HZl1mcW4L8RCke1HhDHxb1ELbXXBOkEhbB5PCkGI6N74wG2La/KzH1kpRveNGlbnyZXBNQvYKaQsYJhXl4iFqLFKUDC2EBLypAmImzNnjswubOBjE2Qa4qsnpCQOyNMhFZb1AdQwqpOQJk1IenUIlowD62YUYIdc8jBI90UH95O1bICOOWzYMIk3o/hDnLCIxo5k2HPsEEatszhmuOpAga3rKHRIZpOePXvKFtYsGIVdIxfVjhTmyvLumenICSH1dtSoUWIHUOiB46hBAwcONN26dfO+nRnUr6rM3iHhjQzLRGHgGph5WUxr1KiRpPRS1igoma6jVCesW0dBOMgLZ12CTogxTz48uSiV5ddnAro9Kcn87coaabmM4HjhWJXG48VGrHRU/sbcuXPldabw/5P9bmKjwAL3iNRkKkjyewgPDg9yZfAYktil5ACb8lHckVG2qCbXgTwMGDp0qFOjRg3n8ccfl/dhwm+4nU627K6suZ3ScYVDcjf69esn7brrrnPc0d0pKipyXGF2XAH3/nL6rFmzJunvJja+A+SmNGjQwBk8eLC8B7aTdu06x53dvCPByDQfpTphXT4Kni5mErapBkZMRk5o3Lix/Bsm/BYjMsUMKmuoO1QpREUhu46G8cxx1jHIQkysGpIuqJXJfjex+aonv8msQrEEcJ+lFKHA45VOoQclOFYJCjvaEoFKydBp06ZJjWFUCVyhft64DdAxKXQxaNAg6bSsaXCuuI2jAJuNskXYcGyfXVJSYoYMGSJpsnGVU8p3Cmwy5umArDaj/xOuzahJTjxGKtmNtsB5Um4V24RzRFgoGs5ozgwVBaybsLU0rmpXLZP7xKIj55EOasxXTmx1vRR7UEGpHKujhxXFJlRQFCUAoaheLAZicCfSoUMHU6dOHe+dYgNLliyRoNPEAteoXHjvVPX6b0JRvYjyxZCkVm9io1CbYhcs5o4bN26d54Q3kf1mlNRkPaPgcaHiBZ6gRMhbxvev2APua2YTIhISoWQtNZ6V5ITi9VKUfEe9XooSEBUURQmACoqiBEAFRVECoIKiKAFQQVGUAKigKEoAZB3Fe60oSlKM+R+Kp6PSeRzyngAAAABJRU5ErkJggg==)"
      ],
      "metadata": {
        "id": "dFTD0kSa5jLb"
      }
    },
    {
      "cell_type": "code",
      "source": [
        "a = np.array([[5, -4, -2], [5, -5, 4], [2, 5, -4], [-5, 4, 3], [3, -4 , -3]])\n",
        "\n",
        "b = np.array([[5], [-2], [-3]])"
      ],
      "metadata": {
        "id": "Ds-LlQl45W00"
      },
      "execution_count": 4,
      "outputs": []
    },
    {
      "cell_type": "code",
      "source": [
        "print(a)"
      ],
      "metadata": {
        "colab": {
          "base_uri": "https://localhost:8080/"
        },
        "id": "k3Wpjs1b5W3l",
        "outputId": "fbabe2ff-a46a-4b75-a828-3b12e218d1f7"
      },
      "execution_count": 5,
      "outputs": [
        {
          "output_type": "stream",
          "name": "stdout",
          "text": [
            "[[ 5 -4 -2]\n",
            " [ 5 -5  4]\n",
            " [ 2  5 -4]\n",
            " [-5  4  3]\n",
            " [ 3 -4 -3]]\n"
          ]
        }
      ]
    },
    {
      "cell_type": "code",
      "source": [
        "print(b)"
      ],
      "metadata": {
        "colab": {
          "base_uri": "https://localhost:8080/"
        },
        "id": "tuiShS4U5W7F",
        "outputId": "db5fdc8f-1a54-4ecf-c50e-381d18cbd947"
      },
      "execution_count": 6,
      "outputs": [
        {
          "output_type": "stream",
          "name": "stdout",
          "text": [
            "[[ 5]\n",
            " [-2]\n",
            " [-3]]\n"
          ]
        }
      ]
    },
    {
      "cell_type": "code",
      "source": [
        "Mul_Matrices(a, b)"
      ],
      "metadata": {
        "colab": {
          "base_uri": "https://localhost:8080/"
        },
        "id": "vmZfFBV75XAs",
        "outputId": "d94ffac1-5020-4f5b-e283-5a16101fc11e"
      },
      "execution_count": 8,
      "outputs": [
        {
          "output_type": "execute_result",
          "data": {
            "text/plain": [
              "array([[ 39.],\n",
              "       [ 23.],\n",
              "       [ 12.],\n",
              "       [-42.],\n",
              "       [ 32.]])"
            ]
          },
          "metadata": {},
          "execution_count": 8
        }
      ]
    },
    {
      "cell_type": "markdown",
      "source": [
        "b)   ![image.png](data:image/png;base64,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)"
      ],
      "metadata": {
        "id": "IfqRRZDP62GK"
      }
    },
    {
      "cell_type": "code",
      "source": [
        "c = np.array([[0, -1, -1, 3], [5, -5, -2, 2], [1, 0, 4, 5]])\n",
        "\n",
        "d = np.array([[0, -3], [-2, -1], [3, -3]])"
      ],
      "metadata": {
        "id": "CaRBO8Fq8QPz"
      },
      "execution_count": 13,
      "outputs": []
    },
    {
      "cell_type": "code",
      "source": [
        "print(c)"
      ],
      "metadata": {
        "colab": {
          "base_uri": "https://localhost:8080/"
        },
        "id": "fTHQ3qYN8QcB",
        "outputId": "b9439bff-3e0c-48f4-c8fe-184aa992b174"
      },
      "execution_count": 11,
      "outputs": [
        {
          "output_type": "stream",
          "name": "stdout",
          "text": [
            "[[ 0 -1 -1  3]\n",
            " [ 5 -5 -2  2]\n",
            " [ 1  0  4  5]]\n"
          ]
        }
      ]
    },
    {
      "cell_type": "code",
      "source": [
        "print(d)"
      ],
      "metadata": {
        "colab": {
          "base_uri": "https://localhost:8080/"
        },
        "id": "Hl8JMlg38Qnn",
        "outputId": "72374f48-a1c9-489a-f313-c849e2b74a7a"
      },
      "execution_count": 14,
      "outputs": [
        {
          "output_type": "stream",
          "name": "stdout",
          "text": [
            "[[ 0 -3]\n",
            " [-2 -1]\n",
            " [ 3 -3]]\n"
          ]
        }
      ]
    },
    {
      "cell_type": "code",
      "source": [
        "Mul_Matrices(c, d)"
      ],
      "metadata": {
        "colab": {
          "base_uri": "https://localhost:8080/",
          "height": 35
        },
        "id": "R4ncboWX8MDm",
        "outputId": "3c9cf6ba-d0f0-4dd2-bab9-a6846e852cb7"
      },
      "execution_count": 15,
      "outputs": [
        {
          "output_type": "execute_result",
          "data": {
            "text/plain": [
              "'Las matrices no pueden ser multiplicadas'"
            ],
            "application/vnd.google.colaboratory.intrinsic+json": {
              "type": "string"
            }
          },
          "metadata": {},
          "execution_count": 15
        }
      ]
    },
    {
      "cell_type": "markdown",
      "source": [
        "c)   ![image.png](data:image/png;base64,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)"
      ],
      "metadata": {
        "id": "qTAxEzIa647X"
      }
    },
    {
      "cell_type": "code",
      "source": [
        "e = np.array([[2, -5, 5, 1], [5, 2, -7, -6], [-6, -1, 7, -4], [5, 4, 1, -5]])\n",
        "\n",
        "f = np.array([[0, 4, -7, 1, -6], [-1, -6, -5, 1, 1], [2, -1, -6, 5, -5], [-3, -6, 6, 3, 5]])"
      ],
      "metadata": {
        "id": "pXMsKZjk9FBd"
      },
      "execution_count": 16,
      "outputs": []
    },
    {
      "cell_type": "code",
      "source": [
        "print(e)"
      ],
      "metadata": {
        "colab": {
          "base_uri": "https://localhost:8080/"
        },
        "id": "eEwx7cIh9FUV",
        "outputId": "354fb931-2d73-4e43-a366-9c8403c23b93"
      },
      "execution_count": 17,
      "outputs": [
        {
          "output_type": "stream",
          "name": "stdout",
          "text": [
            "[[ 2 -5  5  1]\n",
            " [ 5  2 -7 -6]\n",
            " [-6 -1  7 -4]\n",
            " [ 5  4  1 -5]]\n"
          ]
        }
      ]
    },
    {
      "cell_type": "code",
      "source": [
        "print(f)"
      ],
      "metadata": {
        "colab": {
          "base_uri": "https://localhost:8080/"
        },
        "id": "zzQfe2ki9Fe5",
        "outputId": "7efca50c-998d-4368-ac19-ea3995011f1f"
      },
      "execution_count": 18,
      "outputs": [
        {
          "output_type": "stream",
          "name": "stdout",
          "text": [
            "[[ 0  4 -7  1 -6]\n",
            " [-1 -6 -5  1  1]\n",
            " [ 2 -1 -6  5 -5]\n",
            " [-3 -6  6  3  5]]\n"
          ]
        }
      ]
    },
    {
      "cell_type": "code",
      "source": [
        "Mul_Matrices(e, f)"
      ],
      "metadata": {
        "colab": {
          "base_uri": "https://localhost:8080/"
        },
        "id": "okjsJeQ_9VXR",
        "outputId": "2eed0727-cf62-4c0a-c1c9-42c0f60c7a80"
      },
      "execution_count": 19,
      "outputs": [
        {
          "output_type": "execute_result",
          "data": {
            "text/plain": [
              "array([[ 12.,  27., -13.,  25., -37.],\n",
              "       [  2.,  51., -39., -46., -23.],\n",
              "       [ 27.,  -1., -19.,  16., -20.],\n",
              "       [ 13.,  25., -91.,  -1., -56.]])"
            ]
          },
          "metadata": {},
          "execution_count": 19
        }
      ]
    },
    {
      "cell_type": "markdown",
      "source": [
        "d) Utilizando dos matrices cuadradas, demuestre que la multiplicación no es conmutativa."
      ],
      "metadata": {
        "id": "ztAwKT0z7QPh"
      }
    },
    {
      "cell_type": "code",
      "source": [
        "w = np.array([[1, 0, 0], [5, 1, 0], [-2, 3, 1]])\n",
        "\n",
        "t = np.array([[4, -2, 1], [0, 3, 7], [0, 0, 2]])"
      ],
      "metadata": {
        "id": "GeodLejW-eeX"
      },
      "execution_count": 20,
      "outputs": []
    },
    {
      "cell_type": "code",
      "source": [
        "print(w)"
      ],
      "metadata": {
        "colab": {
          "base_uri": "https://localhost:8080/"
        },
        "id": "d1z-03x1-ejW",
        "outputId": "c9a320b6-daa9-4f41-fe5f-0ea01441ec78"
      },
      "execution_count": 21,
      "outputs": [
        {
          "output_type": "stream",
          "name": "stdout",
          "text": [
            "[[ 1  0  0]\n",
            " [ 5  1  0]\n",
            " [-2  3  1]]\n"
          ]
        }
      ]
    },
    {
      "cell_type": "code",
      "source": [
        "print(t)"
      ],
      "metadata": {
        "colab": {
          "base_uri": "https://localhost:8080/"
        },
        "id": "uwtoLL-T-eoz",
        "outputId": "a1c2592c-c0b4-4871-bf25-385429711878"
      },
      "execution_count": 22,
      "outputs": [
        {
          "output_type": "stream",
          "name": "stdout",
          "text": [
            "[[ 4 -2  1]\n",
            " [ 0  3  7]\n",
            " [ 0  0  2]]\n"
          ]
        }
      ]
    },
    {
      "cell_type": "code",
      "source": [
        "Mul_Matrices(w, t)"
      ],
      "metadata": {
        "colab": {
          "base_uri": "https://localhost:8080/"
        },
        "id": "JeyfFhw4-esN",
        "outputId": "acce9dcd-84ea-4f63-cb9c-d7c4fbe1f96c"
      },
      "execution_count": 24,
      "outputs": [
        {
          "output_type": "execute_result",
          "data": {
            "text/plain": [
              "array([[ 4., -2.,  1.],\n",
              "       [20., -7., 12.],\n",
              "       [-8., 13., 21.]])"
            ]
          },
          "metadata": {},
          "execution_count": 24
        }
      ]
    },
    {
      "cell_type": "code",
      "source": [
        "Mul_Matrices(t, w)"
      ],
      "metadata": {
        "colab": {
          "base_uri": "https://localhost:8080/"
        },
        "id": "Q44iQ8jj-e0h",
        "outputId": "de5ff96a-30cb-4fde-e27b-6a66976836f6"
      },
      "execution_count": 25,
      "outputs": [
        {
          "output_type": "execute_result",
          "data": {
            "text/plain": [
              "array([[-8.,  1.,  1.],\n",
              "       [ 1., 24.,  7.],\n",
              "       [-4.,  6.,  2.]])"
            ]
          },
          "metadata": {},
          "execution_count": 25
        }
      ]
    }
  ]
}